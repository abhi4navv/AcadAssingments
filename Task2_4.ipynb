{
 "cells": [
  {
   "cell_type": "code",
   "execution_count": 14,
   "metadata": {},
   "outputs": [
    {
     "name": "stdout",
     "output_type": "stream",
     "text": [
      "WE, THE PEOPLE OF INDIA, \n",
      "      having solemnly resolved to constitute India into a SOVEREIGN, !\n",
      "            SOCIALIST, SECULAR, DEMOCRATIC REPUBLIC \n",
      "             and to secure to all its citizens\n"
     ]
    }
   ],
   "source": [
    "str='''WE, THE PEOPLE OF INDIA, having solemnly resolved to constitute India into a\n",
    "SOVEREIGN, SOCIALIST, SECULAR, DEMOCRATIC REPUBLIC and to secure to all\n",
    "its citizens'''\n",
    "str=str.replace('\\n', ' ')\n",
    "ind=str.index('having')\n",
    "str=str[:ind]+'\\n'+' '*6+str[ind:]\n",
    "inf=str.index('SOCIALIST,')\n",
    "str=str[:inf]+'!'+'\\n'+' '*12+str[inf:]\n",
    "ins=str.index('and')\n",
    "str=str[:ins]+'\\n'+' '*13+str[ins:]\n",
    "print(str)"
   ]
  },
  {
   "cell_type": "code",
   "execution_count": null,
   "metadata": {},
   "outputs": [],
   "source": []
  }
 ],
 "metadata": {
  "kernelspec": {
   "display_name": "Python 3",
   "language": "python",
   "name": "python3"
  },
  "language_info": {
   "codemirror_mode": {
    "name": "ipython",
    "version": 3
   },
   "file_extension": ".py",
   "mimetype": "text/x-python",
   "name": "python",
   "nbconvert_exporter": "python",
   "pygments_lexer": "ipython3",
   "version": "3.7.0"
  }
 },
 "nbformat": 4,
 "nbformat_minor": 2
}
